{
  "nbformat": 4,
  "nbformat_minor": 0,
  "metadata": {
    "colab": {
      "name": "Language modeling.ipynb",
      "provenance": [],
      "collapsed_sections": []
    },
    "kernelspec": {
      "name": "python3",
      "display_name": "Python 3"
    },
    "language_info": {
      "name": "python"
    },
    "widgets": {
      "application/vnd.jupyter.widget-state+json": {
        "69d6aca1150b4e96bdb7f9b85688d969": {
          "model_module": "@jupyter-widgets/controls",
          "model_name": "HBoxModel",
          "state": {
            "_view_name": "HBoxView",
            "_dom_classes": [],
            "_model_name": "HBoxModel",
            "_view_module": "@jupyter-widgets/controls",
            "_model_module_version": "1.5.0",
            "_view_count": null,
            "_view_module_version": "1.5.0",
            "box_style": "",
            "layout": "IPY_MODEL_b76cf7d180e743eca0b8681fccafcdb7",
            "_model_module": "@jupyter-widgets/controls",
            "children": [
              "IPY_MODEL_8e72288834e540579e3966148ce67775",
              "IPY_MODEL_ccedf8fd2c2a4b09a93ac40d3406e6e0"
            ]
          }
        },
        "b76cf7d180e743eca0b8681fccafcdb7": {
          "model_module": "@jupyter-widgets/base",
          "model_name": "LayoutModel",
          "state": {
            "_view_name": "LayoutView",
            "grid_template_rows": null,
            "right": null,
            "justify_content": null,
            "_view_module": "@jupyter-widgets/base",
            "overflow": null,
            "_model_module_version": "1.2.0",
            "_view_count": null,
            "flex_flow": null,
            "width": null,
            "min_width": null,
            "border": null,
            "align_items": null,
            "bottom": null,
            "_model_module": "@jupyter-widgets/base",
            "top": null,
            "grid_column": null,
            "overflow_y": null,
            "overflow_x": null,
            "grid_auto_flow": null,
            "grid_area": null,
            "grid_template_columns": null,
            "flex": null,
            "_model_name": "LayoutModel",
            "justify_items": null,
            "grid_row": null,
            "max_height": null,
            "align_content": null,
            "visibility": null,
            "align_self": null,
            "height": null,
            "min_height": null,
            "padding": null,
            "grid_auto_rows": null,
            "grid_gap": null,
            "max_width": null,
            "order": null,
            "_view_module_version": "1.2.0",
            "grid_template_areas": null,
            "object_position": null,
            "object_fit": null,
            "grid_auto_columns": null,
            "margin": null,
            "display": null,
            "left": null
          }
        },
        "8e72288834e540579e3966148ce67775": {
          "model_module": "@jupyter-widgets/controls",
          "model_name": "FloatProgressModel",
          "state": {
            "_view_name": "ProgressView",
            "style": "IPY_MODEL_76905eb327824e3e8963f51fd59b6e67",
            "_dom_classes": [],
            "description": "100%",
            "_model_name": "FloatProgressModel",
            "bar_style": "success",
            "max": 150,
            "_view_module": "@jupyter-widgets/controls",
            "_model_module_version": "1.5.0",
            "value": 150,
            "_view_count": null,
            "_view_module_version": "1.5.0",
            "orientation": "horizontal",
            "min": 0,
            "description_tooltip": null,
            "_model_module": "@jupyter-widgets/controls",
            "layout": "IPY_MODEL_1a462952098e4f46bf6de31e319d8f35"
          }
        },
        "ccedf8fd2c2a4b09a93ac40d3406e6e0": {
          "model_module": "@jupyter-widgets/controls",
          "model_name": "HTMLModel",
          "state": {
            "_view_name": "HTMLView",
            "style": "IPY_MODEL_0c2dddaa7e304182a2be14a92cb809a4",
            "_dom_classes": [],
            "description": "",
            "_model_name": "HTMLModel",
            "placeholder": "​",
            "_view_module": "@jupyter-widgets/controls",
            "_model_module_version": "1.5.0",
            "value": " 150/150 [18:52&lt;00:00,  7.55s/it]",
            "_view_count": null,
            "_view_module_version": "1.5.0",
            "description_tooltip": null,
            "_model_module": "@jupyter-widgets/controls",
            "layout": "IPY_MODEL_d4c81e3ca0194eb3a29f5dc50eba26b9"
          }
        },
        "76905eb327824e3e8963f51fd59b6e67": {
          "model_module": "@jupyter-widgets/controls",
          "model_name": "ProgressStyleModel",
          "state": {
            "_view_name": "StyleView",
            "_model_name": "ProgressStyleModel",
            "description_width": "initial",
            "_view_module": "@jupyter-widgets/base",
            "_model_module_version": "1.5.0",
            "_view_count": null,
            "_view_module_version": "1.2.0",
            "bar_color": null,
            "_model_module": "@jupyter-widgets/controls"
          }
        },
        "1a462952098e4f46bf6de31e319d8f35": {
          "model_module": "@jupyter-widgets/base",
          "model_name": "LayoutModel",
          "state": {
            "_view_name": "LayoutView",
            "grid_template_rows": null,
            "right": null,
            "justify_content": null,
            "_view_module": "@jupyter-widgets/base",
            "overflow": null,
            "_model_module_version": "1.2.0",
            "_view_count": null,
            "flex_flow": null,
            "width": null,
            "min_width": null,
            "border": null,
            "align_items": null,
            "bottom": null,
            "_model_module": "@jupyter-widgets/base",
            "top": null,
            "grid_column": null,
            "overflow_y": null,
            "overflow_x": null,
            "grid_auto_flow": null,
            "grid_area": null,
            "grid_template_columns": null,
            "flex": null,
            "_model_name": "LayoutModel",
            "justify_items": null,
            "grid_row": null,
            "max_height": null,
            "align_content": null,
            "visibility": null,
            "align_self": null,
            "height": null,
            "min_height": null,
            "padding": null,
            "grid_auto_rows": null,
            "grid_gap": null,
            "max_width": null,
            "order": null,
            "_view_module_version": "1.2.0",
            "grid_template_areas": null,
            "object_position": null,
            "object_fit": null,
            "grid_auto_columns": null,
            "margin": null,
            "display": null,
            "left": null
          }
        },
        "0c2dddaa7e304182a2be14a92cb809a4": {
          "model_module": "@jupyter-widgets/controls",
          "model_name": "DescriptionStyleModel",
          "state": {
            "_view_name": "StyleView",
            "_model_name": "DescriptionStyleModel",
            "description_width": "",
            "_view_module": "@jupyter-widgets/base",
            "_model_module_version": "1.5.0",
            "_view_count": null,
            "_view_module_version": "1.2.0",
            "_model_module": "@jupyter-widgets/controls"
          }
        },
        "d4c81e3ca0194eb3a29f5dc50eba26b9": {
          "model_module": "@jupyter-widgets/base",
          "model_name": "LayoutModel",
          "state": {
            "_view_name": "LayoutView",
            "grid_template_rows": null,
            "right": null,
            "justify_content": null,
            "_view_module": "@jupyter-widgets/base",
            "overflow": null,
            "_model_module_version": "1.2.0",
            "_view_count": null,
            "flex_flow": null,
            "width": null,
            "min_width": null,
            "border": null,
            "align_items": null,
            "bottom": null,
            "_model_module": "@jupyter-widgets/base",
            "top": null,
            "grid_column": null,
            "overflow_y": null,
            "overflow_x": null,
            "grid_auto_flow": null,
            "grid_area": null,
            "grid_template_columns": null,
            "flex": null,
            "_model_name": "LayoutModel",
            "justify_items": null,
            "grid_row": null,
            "max_height": null,
            "align_content": null,
            "visibility": null,
            "align_self": null,
            "height": null,
            "min_height": null,
            "padding": null,
            "grid_auto_rows": null,
            "grid_gap": null,
            "max_width": null,
            "order": null,
            "_view_module_version": "1.2.0",
            "grid_template_areas": null,
            "object_position": null,
            "object_fit": null,
            "grid_auto_columns": null,
            "margin": null,
            "display": null,
            "left": null
          }
        }
      }
    }
  },
  "cells": [
    {
      "cell_type": "code",
      "metadata": {
        "colab": {
          "base_uri": "https://localhost:8080/"
        },
        "id": "36jGa6atiSKJ",
        "outputId": "efa25f15-4ba1-4fa8-dc5c-728b1fcb21e5"
      },
      "source": [
        "import os\n",
        "from google.colab import drive\n",
        "\n",
        "\n",
        "drive.mount('/content/drive')\n",
        "if os.getcwd() != '/content/drive/MyDrive/Advanced_NLP/LM':\n",
        "  os.chdir('/content/drive/MyDrive/Advanced_NLP/LM')\n",
        "print(os.getcwd())"
      ],
      "execution_count": 1,
      "outputs": [
        {
          "output_type": "stream",
          "text": [
            "Mounted at /content/drive\n",
            "/content/drive/MyDrive/Advanced_NLP/LM\n"
          ],
          "name": "stdout"
        }
      ]
    },
    {
      "cell_type": "code",
      "metadata": {
        "id": "m5qr5YFflM70"
      },
      "source": [
        "import re\n",
        "import string\n",
        "import random\n",
        "\n",
        "from functools import partial\n",
        "from itertools import groupby\n",
        "from typing import List, Dict, Union\n",
        "\n",
        "import torch\n",
        "import numpy as np\n",
        "\n",
        "from torch import nn\n",
        "from torch.nn import functional as F\n",
        "from torch.utils.data import Dataset\n",
        "from torch.utils.data import DataLoader\n",
        "\n",
        "from matplotlib import pyplot as plt\n",
        "\n",
        "\n",
        "SEED = 241\n",
        "\n",
        "def seed_everything(seed):\n",
        "  random.seed(seed)\n",
        "  np.random.seed(seed)\n",
        "  torch.manual_seed(seed)\n",
        "  os.environ['PYTHONHASHSEED'] = str(seed)\n",
        "\n",
        "  if torch.cuda.is_available(): \n",
        "    torch.cuda.manual_seed(seed)\n",
        "    torch.cuda.manual_seed_all(seed)\n",
        "    torch.backends.cudnn.deterministic = True\n",
        "    torch.backends.cudnn.benchmark = True\n",
        "\n",
        "seed_everything(SEED)"
      ],
      "execution_count": 2,
      "outputs": []
    },
    {
      "cell_type": "code",
      "metadata": {
        "id": "hUQ3dfnVnNWZ"
      },
      "source": [
        "class PreprocessText(object):\n",
        "  def __init__(self,\n",
        "               preprocess_func,\n",
        "               sent_split_chars,\n",
        "               postprocess_func = None) -> None:\n",
        "    \n",
        "    self.sent_split_chars = sent_split_chars\n",
        "\n",
        "    if preprocess_func is not None:\n",
        "      self.preprocess_func = preprocess_func\n",
        "    else:\n",
        "      self.preprocess_func = lambda v: v\n",
        "    \n",
        "    if postprocess_func is not None:\n",
        "      self.postprocess_func = postprocess_func\n",
        "    else:\n",
        "      self.postprocess_func = lambda v: v\n",
        "\n",
        "  def transform(self, path: str) -> List:\n",
        "    all_text = []\n",
        "    curr_sentence = []\n",
        "    with open(path, 'r') as f:\n",
        "      for text in f.readlines():\n",
        "        text = self.preprocess_func(text)\n",
        "\n",
        "        if text == '':\n",
        "          continue\n",
        "        \n",
        "        curr_sentence.append(text)\n",
        "\n",
        "        if text[-1] in self.sent_split_chars:\n",
        "          sentence = ' '.join(curr_sentence)\n",
        "          sentence = self.postprocess_func(sentence)\n",
        "          tokens = sentence.split()\n",
        "          all_text.append(tokens)\n",
        "          curr_sentence = []\n",
        "    return all_text"
      ],
      "execution_count": 18,
      "outputs": []
    },
    {
      "cell_type": "code",
      "metadata": {
        "id": "8JP_lD_PyNCR"
      },
      "source": [
        "def process(text: str) -> List[str]:\n",
        "  text = text.lower()\n",
        "  text = re.sub('[-\",:!\\t]', '', text)\n",
        "  text = re.sub('\\n', ' ', text)\n",
        "  text = text.strip()\n",
        "  return text\n",
        "\n",
        "def post_process(text: str, special_chars: str) -> List[str]:\n",
        "  text = re.sub(f'[{special_chars}]', '', text)\n",
        "  # text = text.split()\n",
        "  return text\n",
        "\n",
        "post_process = partial(post_process, special_chars='.;!')\n",
        "\n",
        "text_preprocess = PreprocessText(preprocess_func=process, \n",
        "                                 postprocess_func=post_process,\n",
        "                                 sent_split_chars='.;!')"
      ],
      "execution_count": 28,
      "outputs": []
    },
    {
      "cell_type": "code",
      "metadata": {
        "id": "Iyzm9qAPy9mC"
      },
      "source": [
        "class LMDataset(Dataset):\n",
        "\n",
        "  def __init__(self,\n",
        "               path: str, \n",
        "               preprocess: PreprocessText = None) -> None:\n",
        "\n",
        "    self.word2id = {'<EOS>': 0, '<pad>': 1, '<UNK>': 2}\n",
        "\n",
        "    if preprocess is not None:\n",
        "      self.texts = preprocess.transform(path)\n",
        "    else:\n",
        "      self.texts = []\n",
        "      with opne(path, 'r') as f:\n",
        "        for line in f.readlines():\n",
        "          self.texts.append(line.split())\n",
        "\n",
        "    for text in self.texts:\n",
        "      for word in text:\n",
        "        if word not in self.word2id:\n",
        "          self.word2id[word] = len(self.word2id)\n",
        "    \n",
        "    self.id2word = dict([(index, word) \n",
        "                         for word, index in self.word2id.items()])\n",
        "    \n",
        "  def text_to_ids(self, text: str) -> List[int]:\n",
        "    return [self.word2id[word] for word in text]\n",
        "\n",
        "  def __getitem__(self, index) -> Dict[str, torch.Tensor]:\n",
        "    input_text = self.texts[index]\n",
        "    output_text = input_text[1:]\n",
        "    output_text.append('<EOS>')\n",
        "\n",
        "    text_len = torch.LongTensor([[len(input_text)]])\n",
        "    input_text_ids = torch.LongTensor([self.text_to_ids(input_text)])\n",
        "    output_text_ids = torch.LongTensor([self.text_to_ids(output_text)])\n",
        "\n",
        "    return {\n",
        "        'input': input_text_ids,\n",
        "        'output': output_text_ids,\n",
        "        'length': text_len\n",
        "    }\n",
        "\n",
        "  def __len__(self) -> int:\n",
        "    return len(self.texts)"
      ],
      "execution_count": 29,
      "outputs": []
    },
    {
      "cell_type": "code",
      "metadata": {
        "id": "E6_ACnYPQUdG"
      },
      "source": [
        "def collate_fn(items: List[Dict[str, torch.Tensor]], pad_value: int):\n",
        "  item_keys = items[0].keys()\n",
        "  items_max_size = {item: 0 for item in item_keys}\n",
        "  total_collection = {key: [] for key in item_keys}\n",
        "\n",
        "  for item in items:\n",
        "    for key in item:\n",
        "      if items_max_size[key] < item[key].shape[1]:\n",
        "        items_max_size[key] = item[key].shape[1]\n",
        "  \n",
        "  for item in items:\n",
        "    for key in item_keys:\n",
        "      pad_size = items_max_size[key] - item[key].shape[1]\n",
        "      pad_tensor = torch.zeros((1, pad_size), dtype=item[key].dtype)\n",
        "      pad_tensor.fill_(pad_value)\n",
        "      item[key] = torch.cat((item[key], pad_tensor), dim=1)\n",
        "      total_collection[key].append(item[key])\n",
        "\n",
        "  for key in total_collection:\n",
        "    total_collection[key] = torch.cat(total_collection[key], dim=0)\n",
        "  return total_collection"
      ],
      "execution_count": 30,
      "outputs": []
    },
    {
      "cell_type": "code",
      "metadata": {
        "id": "o-TFIdXFfyga"
      },
      "source": [
        "class RNN(nn.Module):\n",
        "\n",
        "  def __init__(self, config: Dict[str, Union[int, float]]) -> None:\n",
        "    super().__init__()\n",
        "    self.config = config\n",
        "    self.embedding = nn.Embedding(config['vocab_size'],\n",
        "                                  config['emb_size'],\n",
        "                                  padding_idx=config['pad_idx'])\n",
        "\n",
        "    self.rnn = nn.LSTM(config['emb_size'], \n",
        "                       config['hid_size'], \n",
        "                       config['n_layers'], \n",
        "                       dropout=config['dropout'] \n",
        "                               if config['n_layers'] > 1 else 0,\n",
        "                       batch_first=True)\n",
        "    \n",
        "    self.output = nn.Linear(config['hid_size'], config['vocab_size'])\n",
        "\n",
        "  def init_hidden(self) -> torch.Tensor:\n",
        "    hidden = torch.zeros((self.config['n_layers'], self.config['bs'], self.config['hid_size']))\n",
        "    cell = torch.zeros((self.config['n_layers'], self.config['bs'], self.config['hid_size']))\n",
        "    nn.init.uniform_(hidden, a=-0.3, b=0.3)\n",
        "    nn.init.uniform_(cell, a=-0.3, b=0.3)\n",
        "    return hidden, cell\n",
        "\n",
        "  def forward(self, text, length, hidden) -> torch.Tensor:\n",
        "    embeded = self.embedding(text)\n",
        "    pack_text = nn.utils.rnn.pack_padded_sequence(embeded, length, \n",
        "                                                  batch_first=True, \n",
        "                                                  enforce_sorted=False)\n",
        "    \n",
        "    pack_outputs, (hidden, cell) = self.rnn(pack_text, hidden)\n",
        "    outputs, lens = nn.utils.rnn.pad_packed_sequence(pack_outputs)\n",
        "    outputs = outputs.permute(1, 0, 2).contiguous()\n",
        "    predictions = self.output(outputs)\n",
        "    predictions = predictions.view(-1, predictions.shape[2])\n",
        "    predictions = F.log_softmax(predictions, dim=1)\n",
        "    return predictions, (hidden, cell)"
      ],
      "execution_count": 31,
      "outputs": []
    },
    {
      "cell_type": "code",
      "metadata": {
        "id": "u7wQU7VW2X1g"
      },
      "source": [
        "from tqdm.notebook import tqdm\n",
        "\n",
        "\n",
        "class Trainer(object):\n",
        "\n",
        "  def __init__(self, model, criterion, optimizer) -> None:\n",
        "    self.model = model\n",
        "    self.criterion = criterion\n",
        "    self.optimizer = optimizer\n",
        "    self.train_losses = []\n",
        "    self.eval_losses = []\n",
        "\n",
        "  def fit(self, loader, n_epochs, eval_loader=None) -> nn.Module:\n",
        "    train_loss = None\n",
        "    eval_loss = None\n",
        "    for epoch in tqdm(range(n_epochs)):\n",
        "      train_loss = 0\n",
        "      self.model.train()\n",
        "      for batch in loader:\n",
        "        loss = self.handle_batch(batch, train=True)\n",
        "        train_loss += loss\n",
        "      if eval_loader is not None:\n",
        "        eval_loss = 0\n",
        "        with torch.no_grad():\n",
        "          self.model.eval()\n",
        "          for batch in eval_loader:\n",
        "            loss = self.handle_batch(batch, train=False)\n",
        "            eval_loss += loss\n",
        "      # print(f'{epoch + 1}: {train_loss}')\n",
        "      self.train_losses.append(train_loss)\n",
        "      if eval_loss is not None:\n",
        "        self.eval_losses.append(eval_loss)\n",
        "    return self.model\n",
        "\n",
        "  def handle_batch(self, batch, train=True) -> float:\n",
        "    inputs = batch['input']\n",
        "    outputs = batch['output']\n",
        "    length = batch['length']\n",
        "\n",
        "    if train:\n",
        "      self.optimizer.zero_grad()\n",
        "      hidden, cell = self.model.init_hidden()\n",
        "\n",
        "      batch_loss = 0\n",
        "      total_loss = 0\n",
        "\n",
        "      for index in range(inputs.shape[1]):\n",
        "        curr_input = inputs[:, index]\n",
        "        curr_input = curr_input.unsqueeze(1)\n",
        "        input_lenght = torch.ones_like(length)\n",
        "        input_lenght = input_lenght.squeeze()\n",
        "\n",
        "        predictions, (hidden, cell) = self.model(curr_input, input_lenght, (hidden, cell))\n",
        "        loss = criterion(predictions, outputs[:, index])\n",
        "\n",
        "        total_loss += loss\n",
        "\n",
        "      total_loss.backward()\n",
        "      self.optimizer.step()\n",
        "\n",
        "      batch_loss += total_loss.item()\n",
        "\n",
        "    else:\n",
        "      hidden, cell = self.model.init_hidden()\n",
        "      batch_loss = 0\n",
        "\n",
        "      for index in range(inputs.shape[1]):\n",
        "        curr_input = inputs[:, index]\n",
        "        curr_input = curr_input.unsqueeze(1)\n",
        "        input_lenght = torch.ones_like(length)\n",
        "        input_lenght = input_lenght.squeeze()\n",
        "\n",
        "        predictions, (hidden, cell) = self.model(curr_input, input_lenght, (hidden, cell))\n",
        "        loss = self.criterion(predictions, outputs[:, index])\n",
        "        total_loss += loss\n",
        "\n",
        "      batch_loss += total_loss.item()\n",
        "    return batch_loss     \n",
        "\n",
        "  def plot_loss_curve(self, eval=False) -> None:\n",
        "    plt.plot(self.train_losses, label='Train')\n",
        "    if eval:\n",
        "      plt.plot(self.eval_losses, label='Eval')\n",
        "    plt.xlabel('N epochs')\n",
        "    plt.ylabel('Loss')\n",
        "    plt.yscale('log')\n",
        "    plt.grid(True)\n",
        "    plt.legend()\n",
        "    plt.show()\n"
      ],
      "execution_count": 46,
      "outputs": []
    },
    {
      "cell_type": "code",
      "metadata": {
        "colab": {
          "base_uri": "https://localhost:8080/",
          "height": 328,
          "referenced_widgets": [
            "69d6aca1150b4e96bdb7f9b85688d969",
            "b76cf7d180e743eca0b8681fccafcdb7",
            "8e72288834e540579e3966148ce67775",
            "ccedf8fd2c2a4b09a93ac40d3406e6e0",
            "76905eb327824e3e8963f51fd59b6e67",
            "1a462952098e4f46bf6de31e319d8f35",
            "0c2dddaa7e304182a2be14a92cb809a4",
            "d4c81e3ca0194eb3a29f5dc50eba26b9"
          ]
        },
        "id": "a18Jy3lBjW5C",
        "outputId": "c59e831e-0d8d-4ae7-8069-53f175448d86"
      },
      "source": [
        "batch_size = 32\n",
        "\n",
        "dataset = LMDataset('data/LM.txt', text_preprocess)\n",
        "\n",
        "config = {\n",
        "    'vocab_size': len(dataset.word2id),\n",
        "    'bs': batch_size,\n",
        "    'emb_size': 256,\n",
        "    'hid_size': 256,\n",
        "    'n_layers': 2,\n",
        "    'dropout': 0.15,\n",
        "    'pad_idx': dataset.word2id['<pad>']\n",
        "}\n",
        "\n",
        "collate_fn = partial(collate_fn, pad_value=dataset.word2id['<pad>'])\n",
        "train_loader = DataLoader(dataset, batch_size=batch_size, collate_fn=collate_fn)\n",
        "\n",
        "lm_model = RNN(config)\n",
        "criterion = nn.NLLLoss(ignore_index=config['pad_idx'])\n",
        "optimizer = torch.optim.Adam(lm_model.parameters(), lr=1e-3)\n",
        "\n",
        "trainer = Trainer(lm_model, criterion, optimizer)\n",
        "trainer.fit(train_loader, n_epochs=150)\n",
        "trainer.plot_loss_curve()"
      ],
      "execution_count": 52,
      "outputs": [
        {
          "output_type": "display_data",
          "data": {
            "application/vnd.jupyter.widget-view+json": {
              "model_id": "69d6aca1150b4e96bdb7f9b85688d969",
              "version_minor": 0,
              "version_major": 2
            },
            "text/plain": [
              "HBox(children=(FloatProgress(value=0.0, max=150.0), HTML(value='')))"
            ]
          },
          "metadata": {
            "tags": []
          }
        },
        {
          "output_type": "stream",
          "text": [
            "\n"
          ],
          "name": "stdout"
        },
        {
          "output_type": "display_data",
          "data": {
            "image/png": "[encoded data removed]",
            "text/plain": [
              "<Figure size 432x288 with 1 Axes>"
            ]
          },
          "metadata": {
            "tags": [],
            "needs_background": "light"
          }
        }
      ]
    },
    {
      "cell_type": "code",
      "metadata": {
        "colab": {
          "base_uri": "https://localhost:8080/"
        },
        "id": "f5ch36cK-qvy",
        "outputId": "d9a902e6-5e02-4d2b-ef11-fe73d7521d00"
      },
      "source": [
        "trainer.train_losses[-1], trainer.train_losses[-1] / config['bs']"
      ],
      "execution_count": 57,
      "outputs": [
        {
          "output_type": "execute_result",
          "data": {
            "text/plain": [
              "(19.81324815750122, 0.6191640049219131)"
            ]
          },
          "metadata": {
            "tags": []
          },
          "execution_count": 57
        }
      ]
    },
    {
      "cell_type": "code",
      "metadata": {
        "colab": {
          "base_uri": "https://localhost:8080/"
        },
        "id": "SLG2cjNWO6ps",
        "outputId": "ea131ece-bba6-40c6-9b02-edf0e3be9a8e"
      },
      "source": [
        "print(np.sum([param.numel() for name, param in lm_model.named_parameters()]))"
      ],
      "execution_count": 53,
      "outputs": [
        {
          "output_type": "stream",
          "text": [
            "1732397\n"
          ],
          "name": "stdout"
        }
      ]
    },
    {
      "cell_type": "code",
      "metadata": {
        "id": "GqCE2SZ_LgO8"
      },
      "source": [
        "def choose_from_top(probs, values):\n",
        "  probs = np.abs(probs)\n",
        "  probs = np.exp(probs) / np.sum(np.exp(probs))\n",
        "  value = np.random.choice(values, p=probs)\n",
        "  return value"
      ],
      "execution_count": 54,
      "outputs": []
    },
    {
      "cell_type": "code",
      "metadata": {
        "colab": {
          "base_uri": "https://localhost:8080/"
        },
        "id": "TdbkkKd7tJ1q",
        "outputId": "c16f3a8d-6d4d-4ae8-ed09-1131209bb386"
      },
      "source": [
        "input_str = 'тридцать три богатыря'\n",
        "new_word = None\n",
        "count = 0\n",
        "\n",
        "with torch.no_grad():\n",
        "  lm_model.eval()\n",
        "  hidden, cell = lm_model.init_hidden()\n",
        "\n",
        "  for input_token in input_str.split():\n",
        "    input_tensor = torch.LongTensor([dataset.text_to_ids([input_token])])\n",
        "    lenght_tensor = torch.LongTensor([1])\n",
        "    _, (hidden, cell) = lm_model(input_tensor, lenght_tensor, (hidden, cell))\n",
        "\n",
        "  while new_word != '<EOS>' and count < 10:\n",
        "    input_tensor = torch.LongTensor([dataset.text_to_ids(input_str.split())])\n",
        "    lenght_tensor = torch.LongTensor([len(input_str.split())])\n",
        "    predictions, (hidden, cell) = lm_model(input_tensor, lenght_tensor, (hidden, cell))\n",
        "    top_values, top_indexes = torch.topk(predictions, k=1, dim=1)\n",
        "    top_values = top_values.numpy()[0]\n",
        "    top_indexes = top_indexes.numpy()[0]\n",
        "    top_index = choose_from_top(top_values, top_indexes)\n",
        "\n",
        "    new_word = dataset.id2word[top_index]\n",
        "    input_str = input_str + ' ' + new_word\n",
        "    count += 1\n",
        "  print(' '.join([word for word, _ in groupby(input_str.split())]))"
      ],
      "execution_count": 69,
      "outputs": [
        {
          "output_type": "stream",
          "text": [
            "тридцать три богатыря все красавцы молодые великаны удалые все равны\n"
          ],
          "name": "stdout"
        }
      ]
    },
    {
      "cell_type": "code",
      "metadata": {
        "id": "bNqIcXjNy9G-"
      },
      "source": [
        ""
      ],
      "execution_count": 43,
      "outputs": []
    }
  ]
}
