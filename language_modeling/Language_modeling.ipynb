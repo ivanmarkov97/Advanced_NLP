{
  "nbformat": 4,
  "nbformat_minor": 0,
  "metadata": {
    "colab": {
      "name": "Language modeling.ipynb",
      "provenance": [],
      "collapsed_sections": []
    },
    "kernelspec": {
      "name": "python3",
      "display_name": "Python 3"
    },
    "language_info": {
      "name": "python"
    },
    "widgets": {
      "application/vnd.jupyter.widget-state+json": {
        "e0011a8d6c1b4beab0caaeadc519f0f3": {
          "model_module": "@jupyter-widgets/controls",
          "model_name": "HBoxModel",
          "state": {
            "_view_name": "HBoxView",
            "_dom_classes": [],
            "_model_name": "HBoxModel",
            "_view_module": "@jupyter-widgets/controls",
            "_model_module_version": "1.5.0",
            "_view_count": null,
            "_view_module_version": "1.5.0",
            "box_style": "",
            "layout": "IPY_MODEL_bd8daf6cf957403d86241153d353a78d",
            "_model_module": "@jupyter-widgets/controls",
            "children": [
              "IPY_MODEL_a1ee4ae911e44992a3cc8d89f684768b",
              "IPY_MODEL_f8740eb50a5d4d8d98de345fcccc5f6c"
            ]
          }
        },
        "bd8daf6cf957403d86241153d353a78d": {
          "model_module": "@jupyter-widgets/base",
          "model_name": "LayoutModel",
          "state": {
            "_view_name": "LayoutView",
            "grid_template_rows": null,
            "right": null,
            "justify_content": null,
            "_view_module": "@jupyter-widgets/base",
            "overflow": null,
            "_model_module_version": "1.2.0",
            "_view_count": null,
            "flex_flow": null,
            "width": null,
            "min_width": null,
            "border": null,
            "align_items": null,
            "bottom": null,
            "_model_module": "@jupyter-widgets/base",
            "top": null,
            "grid_column": null,
            "overflow_y": null,
            "overflow_x": null,
            "grid_auto_flow": null,
            "grid_area": null,
            "grid_template_columns": null,
            "flex": null,
            "_model_name": "LayoutModel",
            "justify_items": null,
            "grid_row": null,
            "max_height": null,
            "align_content": null,
            "visibility": null,
            "align_self": null,
            "height": null,
            "min_height": null,
            "padding": null,
            "grid_auto_rows": null,
            "grid_gap": null,
            "max_width": null,
            "order": null,
            "_view_module_version": "1.2.0",
            "grid_template_areas": null,
            "object_position": null,
            "object_fit": null,
            "grid_auto_columns": null,
            "margin": null,
            "display": null,
            "left": null
          }
        },
        "a1ee4ae911e44992a3cc8d89f684768b": {
          "model_module": "@jupyter-widgets/controls",
          "model_name": "FloatProgressModel",
          "state": {
            "_view_name": "ProgressView",
            "style": "IPY_MODEL_be8ad5760ac74f8184cd499f7c307718",
            "_dom_classes": [],
            "description": "100%",
            "_model_name": "FloatProgressModel",
            "bar_style": "success",
            "max": 150,
            "_view_module": "@jupyter-widgets/controls",
            "_model_module_version": "1.5.0",
            "value": 150,
            "_view_count": null,
            "_view_module_version": "1.5.0",
            "orientation": "horizontal",
            "min": 0,
            "description_tooltip": null,
            "_model_module": "@jupyter-widgets/controls",
            "layout": "IPY_MODEL_272e535a02ed44509812d01a3906894a"
          }
        },
        "f8740eb50a5d4d8d98de345fcccc5f6c": {
          "model_module": "@jupyter-widgets/controls",
          "model_name": "HTMLModel",
          "state": {
            "_view_name": "HTMLView",
            "style": "IPY_MODEL_c4c1843d27804f3ea8e4e9e6b46aadd9",
            "_dom_classes": [],
            "description": "",
            "_model_name": "HTMLModel",
            "placeholder": "​",
            "_view_module": "@jupyter-widgets/controls",
            "_model_module_version": "1.5.0",
            "value": " 150/150 [10:40&lt;00:00,  4.27s/it]",
            "_view_count": null,
            "_view_module_version": "1.5.0",
            "description_tooltip": null,
            "_model_module": "@jupyter-widgets/controls",
            "layout": "IPY_MODEL_6e23496dfb7e4ea398413ac3097891ef"
          }
        },
        "be8ad5760ac74f8184cd499f7c307718": {
          "model_module": "@jupyter-widgets/controls",
          "model_name": "ProgressStyleModel",
          "state": {
            "_view_name": "StyleView",
            "_model_name": "ProgressStyleModel",
            "description_width": "initial",
            "_view_module": "@jupyter-widgets/base",
            "_model_module_version": "1.5.0",
            "_view_count": null,
            "_view_module_version": "1.2.0",
            "bar_color": null,
            "_model_module": "@jupyter-widgets/controls"
          }
        },
        "272e535a02ed44509812d01a3906894a": {
          "model_module": "@jupyter-widgets/base",
          "model_name": "LayoutModel",
          "state": {
            "_view_name": "LayoutView",
            "grid_template_rows": null,
            "right": null,
            "justify_content": null,
            "_view_module": "@jupyter-widgets/base",
            "overflow": null,
            "_model_module_version": "1.2.0",
            "_view_count": null,
            "flex_flow": null,
            "width": null,
            "min_width": null,
            "border": null,
            "align_items": null,
            "bottom": null,
            "_model_module": "@jupyter-widgets/base",
            "top": null,
            "grid_column": null,
            "overflow_y": null,
            "overflow_x": null,
            "grid_auto_flow": null,
            "grid_area": null,
            "grid_template_columns": null,
            "flex": null,
            "_model_name": "LayoutModel",
            "justify_items": null,
            "grid_row": null,
            "max_height": null,
            "align_content": null,
            "visibility": null,
            "align_self": null,
            "height": null,
            "min_height": null,
            "padding": null,
            "grid_auto_rows": null,
            "grid_gap": null,
            "max_width": null,
            "order": null,
            "_view_module_version": "1.2.0",
            "grid_template_areas": null,
            "object_position": null,
            "object_fit": null,
            "grid_auto_columns": null,
            "margin": null,
            "display": null,
            "left": null
          }
        },
        "c4c1843d27804f3ea8e4e9e6b46aadd9": {
          "model_module": "@jupyter-widgets/controls",
          "model_name": "DescriptionStyleModel",
          "state": {
            "_view_name": "StyleView",
            "_model_name": "DescriptionStyleModel",
            "description_width": "",
            "_view_module": "@jupyter-widgets/base",
            "_model_module_version": "1.5.0",
            "_view_count": null,
            "_view_module_version": "1.2.0",
            "_model_module": "@jupyter-widgets/controls"
          }
        },
        "6e23496dfb7e4ea398413ac3097891ef": {
          "model_module": "@jupyter-widgets/base",
          "model_name": "LayoutModel",
          "state": {
            "_view_name": "LayoutView",
            "grid_template_rows": null,
            "right": null,
            "justify_content": null,
            "_view_module": "@jupyter-widgets/base",
            "overflow": null,
            "_model_module_version": "1.2.0",
            "_view_count": null,
            "flex_flow": null,
            "width": null,
            "min_width": null,
            "border": null,
            "align_items": null,
            "bottom": null,
            "_model_module": "@jupyter-widgets/base",
            "top": null,
            "grid_column": null,
            "overflow_y": null,
            "overflow_x": null,
            "grid_auto_flow": null,
            "grid_area": null,
            "grid_template_columns": null,
            "flex": null,
            "_model_name": "LayoutModel",
            "justify_items": null,
            "grid_row": null,
            "max_height": null,
            "align_content": null,
            "visibility": null,
            "align_self": null,
            "height": null,
            "min_height": null,
            "padding": null,
            "grid_auto_rows": null,
            "grid_gap": null,
            "max_width": null,
            "order": null,
            "_view_module_version": "1.2.0",
            "grid_template_areas": null,
            "object_position": null,
            "object_fit": null,
            "grid_auto_columns": null,
            "margin": null,
            "display": null,
            "left": null
          }
        }
      }
    }
  },
  "cells": [
    {
      "cell_type": "code",
      "metadata": {
        "colab": {
          "base_uri": "https://localhost:8080/"
        },
        "id": "36jGa6atiSKJ",
        "outputId": "0c181938-5a69-4481-f6ed-86167020e355"
      },
      "source": [
        "import os\n",
        "from google.colab import drive\n",
        "\n",
        "\n",
        "drive.mount('/content/drive')\n",
        "if os.getcwd() != '/content/drive/MyDrive/Advanced_NLP/LM':\n",
        "  os.chdir('/content/drive/MyDrive/Advanced_NLP/LM')\n",
        "print(os.getcwd())"
      ],
      "execution_count": 17,
      "outputs": [
        {
          "output_type": "stream",
          "text": [
            "Drive already mounted at /content/drive; to attempt to forcibly remount, call drive.mount(\"/content/drive\", force_remount=True).\n",
            "/content/drive/MyDrive/Advanced_NLP/LM\n"
          ],
          "name": "stdout"
        }
      ]
    },
    {
      "cell_type": "code",
      "metadata": {
        "id": "m5qr5YFflM70"
      },
      "source": [
        "import os\n",
        "import re\n",
        "import string\n",
        "import random\n",
        "\n",
        "from functools import partial\n",
        "from itertools import groupby\n",
        "from typing import List, Dict, Union\n",
        "\n",
        "import torch\n",
        "import numpy as np\n",
        "\n",
        "from torch import nn\n",
        "from torch.nn import functional as F\n",
        "from torch.utils.data import Dataset\n",
        "from torch.utils.data import DataLoader\n",
        "\n",
        "from matplotlib import pyplot as plt\n",
        "\n",
        "\n",
        "SEED = 241\n",
        "\n",
        "def seed_everything(seed):\n",
        "  random.seed(seed)\n",
        "  np.random.seed(seed)\n",
        "  torch.manual_seed(seed)\n",
        "  os.environ['PYTHONHASHSEED'] = str(seed)\n",
        "\n",
        "  if torch.cuda.is_available(): \n",
        "    torch.cuda.manual_seed(seed)\n",
        "    torch.cuda.manual_seed_all(seed)\n",
        "    torch.backends.cudnn.deterministic = True\n",
        "    torch.backends.cudnn.benchmark = True\n",
        "\n",
        "seed_everything(SEED)"
      ],
      "execution_count": 80,
      "outputs": []
    },
    {
      "cell_type": "code",
      "metadata": {
        "id": "hUQ3dfnVnNWZ"
      },
      "source": [
        "class PreprocessText(object):\n",
        "  def __init__(self,\n",
        "               preprocess_func,\n",
        "               sent_split_chars,\n",
        "               postprocess_func = None) -> None:\n",
        "    \n",
        "    self.sent_split_chars = sent_split_chars\n",
        "\n",
        "    if preprocess_func is not None:\n",
        "      self.preprocess_func = preprocess_func\n",
        "    else:\n",
        "      self.preprocess_func = lambda v: v\n",
        "    \n",
        "    if postprocess_func is not None:\n",
        "      self.postprocess_func = postprocess_func\n",
        "    else:\n",
        "      self.postprocess_func = lambda v: v\n",
        "\n",
        "  def transform(self, path: str) -> List:\n",
        "    all_text = []\n",
        "    curr_sentence = []\n",
        "    with open(path, 'r') as f:\n",
        "      for text in f.readlines():\n",
        "        text = self.preprocess_func(text)\n",
        "\n",
        "        if text == '':\n",
        "          continue\n",
        "        \n",
        "        curr_sentence.append(text)\n",
        "\n",
        "        if text[-1] in self.sent_split_chars:\n",
        "          sentence = ' '.join(curr_sentence)\n",
        "          sentence = self.postprocess_func(sentence)\n",
        "          all_text.append(sentence)\n",
        "          curr_sentence = []\n",
        "    return all_text"
      ],
      "execution_count": 19,
      "outputs": []
    },
    {
      "cell_type": "code",
      "metadata": {
        "id": "8JP_lD_PyNCR"
      },
      "source": [
        "def process(text: str) -> List[str]:\n",
        "  text = text.lower()\n",
        "  text = re.sub('[-\",:!\\t]', '', text)\n",
        "  text = re.sub('\\n', ' ', text)\n",
        "  text = text.strip()\n",
        "  return text\n",
        "\n",
        "def post_process(text: str, special_chars: str) -> List[str]:\n",
        "  text = re.sub(f'[{special_chars}]', '', text)\n",
        "  text = text.split()\n",
        "  return text\n",
        "\n",
        "post_process = partial(post_process, special_chars='.;!')\n",
        "\n",
        "text_preprocess = PreprocessText(preprocess_func=process, \n",
        "                                 postprocess_func=post_process,\n",
        "                                 sent_split_chars='.;!')"
      ],
      "execution_count": 20,
      "outputs": []
    },
    {
      "cell_type": "code",
      "metadata": {
        "id": "Iyzm9qAPy9mC"
      },
      "source": [
        "class LMDataset(Dataset):\n",
        "\n",
        "  def __init__(self,\n",
        "               path: str, \n",
        "               preprocess: PreprocessText = None) -> None:\n",
        "\n",
        "    self.word2id = {'<EOS>': 0, '<pad>': 1, '<UNK>': 2}\n",
        "\n",
        "    if preprocess is not None:\n",
        "      self.texts = preprocess.transform(path)\n",
        "    else:\n",
        "      self.texts = []\n",
        "      with opne(path, 'r') as f:\n",
        "        for line in f.readlines():\n",
        "          self.texts.append(line.split())\n",
        "\n",
        "    for text in self.texts:\n",
        "      for word in text:\n",
        "        if word not in self.word2id:\n",
        "          self.word2id[word] = len(self.word2id)\n",
        "    \n",
        "    self.id2word = dict([(index, word) \n",
        "                         for word, index in self.word2id.items()])\n",
        "    \n",
        "  def text_to_ids(self, text: str) -> List[int]:\n",
        "    return [self.word2id[word] for word in text]\n",
        "\n",
        "  def __getitem__(self, index) -> Dict[str, torch.Tensor]:\n",
        "    input_text = self.texts[index]\n",
        "    output_text = input_text[1:]\n",
        "    output_text.append('<EOS>')\n",
        "\n",
        "    text_len = torch.LongTensor([[len(input_text)]])\n",
        "    input_text_ids = torch.LongTensor([self.text_to_ids(input_text)])\n",
        "    output_text_ids = torch.LongTensor([self.text_to_ids(output_text)])\n",
        "\n",
        "    return {\n",
        "        'input': input_text_ids,\n",
        "        'output': output_text_ids,\n",
        "        'length': text_len\n",
        "    }\n",
        "\n",
        "  def __len__(self) -> int:\n",
        "    return len(self.texts)"
      ],
      "execution_count": 21,
      "outputs": []
    },
    {
      "cell_type": "code",
      "metadata": {
        "id": "E6_ACnYPQUdG"
      },
      "source": [
        "def collate_fn(items: List[Dict[str, torch.Tensor]], pad_value: int):\n",
        "  item_keys = items[0].keys()\n",
        "  items_max_size = {item: 0 for item in item_keys}\n",
        "  total_collection = {key: [] for key in item_keys}\n",
        "\n",
        "  for item in items:\n",
        "    for key in item:\n",
        "      if items_max_size[key] < item[key].shape[1]:\n",
        "        items_max_size[key] = item[key].shape[1]\n",
        "  \n",
        "  for item in items:\n",
        "    for key in item_keys:\n",
        "      pad_size = items_max_size[key] - item[key].shape[1]\n",
        "      pad_tensor = torch.zeros((1, pad_size), dtype=item[key].dtype)\n",
        "      pad_tensor.fill_(pad_value)\n",
        "      item[key] = torch.cat((item[key], pad_tensor), dim=1)\n",
        "      total_collection[key].append(item[key])\n",
        "\n",
        "  for key in total_collection:\n",
        "    total_collection[key] = torch.cat(total_collection[key], dim=0)\n",
        "  return total_collection"
      ],
      "execution_count": 22,
      "outputs": []
    },
    {
      "cell_type": "code",
      "metadata": {
        "id": "o-TFIdXFfyga"
      },
      "source": [
        "class RNN(nn.Module):\n",
        "\n",
        "  def __init__(self, config: Dict[str, Union[int, float]]) -> None:\n",
        "    super().__init__()\n",
        "    self.config = config\n",
        "    self.embedding = nn.Embedding(config['vocab_size'],\n",
        "                                  config['emb_size'],\n",
        "                                  padding_idx=config['pad_idx'])\n",
        "\n",
        "    self.rnn = nn.LSTM(config['emb_size'], \n",
        "                       config['hid_size'], \n",
        "                       config['n_layers'], \n",
        "                       dropout=config['dropout'] \n",
        "                               if config['n_layers'] > 1 else 0,\n",
        "                       batch_first=True)\n",
        "    \n",
        "    self.output = nn.Linear(config['hid_size'], config['vocab_size'])\n",
        "\n",
        "  def init_hidden(self) -> torch.Tensor:\n",
        "    hidden = torch.zeros((self.config['n_layers'], self.config['bs'], self.config['hid_size']))\n",
        "    cell = torch.zeros((self.config['n_layers'], self.config['bs'], self.config['hid_size']))\n",
        "    nn.init.uniform_(hidden, a=-0.3, b=0.3)\n",
        "    nn.init.uniform_(cell, a=-0.3, b=0.3)\n",
        "    return hidden, cell\n",
        "\n",
        "  def forward(self, text, length, hidden) -> torch.Tensor:\n",
        "    embeded = self.embedding(text)\n",
        "    pack_text = nn.utils.rnn.pack_padded_sequence(embeded, length, \n",
        "                                                  batch_first=True, \n",
        "                                                  enforce_sorted=False)\n",
        "    \n",
        "    pack_outputs, (hidden, cell) = self.rnn(pack_text, hidden)\n",
        "    outputs, lens = nn.utils.rnn.pad_packed_sequence(pack_outputs)\n",
        "    outputs = outputs.permute(1, 0, 2).contiguous()\n",
        "    predictions = self.output(outputs)\n",
        "    predictions = predictions.view(-1, predictions.shape[2])\n",
        "    predictions = F.log_softmax(predictions, dim=1)\n",
        "    return predictions, (hidden, cell)"
      ],
      "execution_count": 43,
      "outputs": []
    },
    {
      "cell_type": "code",
      "metadata": {
        "id": "u7wQU7VW2X1g"
      },
      "source": [
        "from tqdm.notebook import tqdm\n",
        "\n",
        "\n",
        "class Trainer(object):\n",
        "\n",
        "  def __init__(self, model, criterion, optimizer) -> None:\n",
        "    self.model = model\n",
        "    self.criterion = criterion\n",
        "    self.optimizer = optimizer\n",
        "    self.train_losses = []\n",
        "    self.eval_losses = []\n",
        "\n",
        "  def fit(self, loader, n_epochs, eval_loader=None) -> nn.Module:\n",
        "    train_loss = None\n",
        "    eval_loss = None\n",
        "    for epoch in tqdm(range(n_epochs)):\n",
        "      train_loss = 0\n",
        "      self.model.train()\n",
        "      for batch in loader:\n",
        "        loss = self.handle_batch(batch, train=True)\n",
        "        train_loss += loss\n",
        "      if eval_loader is not None:\n",
        "        eval_loss = 0\n",
        "        with torch.no_grad():\n",
        "          self.model.eval()\n",
        "          for batch in eval_loader:\n",
        "            loss = self.handle_batch(batch, train=False)\n",
        "            eval_loss += loss\n",
        "      # print(f'{epoch + 1}: {train_loss}')\n",
        "      self.train_losses.append(train_loss)\n",
        "      if eval_loss is not None:\n",
        "        self.eval_losses.append(eval_loss)\n",
        "    return self.model\n",
        "\n",
        "  def handle_batch(self, batch, train=True) -> float:\n",
        "    inputs = batch['input']\n",
        "    outputs = batch['output']\n",
        "    length = batch['length']\n",
        "\n",
        "    if train:\n",
        "      optimizer.zero_grad()\n",
        "      hidden, cell = self.model.init_hidden()\n",
        "\n",
        "      batch_loss = 0\n",
        "      total_loss = 0\n",
        "\n",
        "      for index in range(inputs.shape[1]):\n",
        "        curr_input = inputs[:, index]\n",
        "        curr_input = curr_input.unsqueeze(1)\n",
        "        input_lenght = torch.ones_like(length)\n",
        "        input_lenght = input_lenght.squeeze()\n",
        "\n",
        "        predictions, (hidden, cell) = self.model(curr_input, input_lenght, (hidden, cell))\n",
        "        loss = criterion(predictions, outputs[:, index])\n",
        "\n",
        "        total_loss += loss\n",
        "\n",
        "      total_loss.backward()\n",
        "      optimizer.step()\n",
        "\n",
        "      batch_loss += total_loss.item()\n",
        "\n",
        "    else:\n",
        "      hidden, cell = self.model.init_hidden()\n",
        "      batch_loss = 0\n",
        "\n",
        "      for index in range(inputs.shape[1]):\n",
        "        curr_input = inputs[:, index]\n",
        "        curr_input = curr_input.unsqueeze(1)\n",
        "        input_lenght = torch.ones_like(length)\n",
        "        input_lenght = input_lenght.squeeze()\n",
        "\n",
        "        predictions, (hidden, cell) = self.model(curr_input, input_lenght, (hidden, cell))\n",
        "        loss = criterion(predictions, outputs[:, index])\n",
        "        total_loss += loss\n",
        "\n",
        "      batch_loss += total_loss.item()\n",
        "    return batch_loss     \n",
        "\n",
        "  def plot_loss_curve(self, eval=False) -> None:\n",
        "    plt.plot(self.train_losses, label='Train')\n",
        "    if eval:\n",
        "      plt.plot(self.eval_losses, label='Eval')\n",
        "    plt.xlabel('N epochs')\n",
        "    plt.ylabel('Loss')\n",
        "    plt.grid(True)\n",
        "    plt.legend()\n",
        "    plt.show()\n"
      ],
      "execution_count": 63,
      "outputs": []
    },
    {
      "cell_type": "code",
      "metadata": {
        "colab": {
          "base_uri": "https://localhost:8080/",
          "height": 328,
          "referenced_widgets": [
            "e0011a8d6c1b4beab0caaeadc519f0f3",
            "bd8daf6cf957403d86241153d353a78d",
            "a1ee4ae911e44992a3cc8d89f684768b",
            "f8740eb50a5d4d8d98de345fcccc5f6c",
            "be8ad5760ac74f8184cd499f7c307718",
            "272e535a02ed44509812d01a3906894a",
            "c4c1843d27804f3ea8e4e9e6b46aadd9",
            "6e23496dfb7e4ea398413ac3097891ef"
          ]
        },
        "id": "a18Jy3lBjW5C",
        "outputId": "86799de0-f5b4-44b5-974b-347247db6498"
      },
      "source": [
        "batch_size = 32\n",
        "\n",
        "dataset = LMDataset('data/LM.txt', text_preprocess)\n",
        "\n",
        "config = {\n",
        "    'vocab_size': len(dataset.word2id),\n",
        "    'bs': batch_size,\n",
        "    'emb_size': 256,\n",
        "    'hid_size': 256,\n",
        "    'n_layers': 2,\n",
        "    'dropout': 0.35,\n",
        "    'pad_idx': dataset.word2id['<pad>']\n",
        "}\n",
        "\n",
        "collate_fn = partial(collate_fn, pad_value=dataset.word2id['<pad>'])\n",
        "train_loader = DataLoader(dataset, batch_size=batch_size, collate_fn=collate_fn)\n",
        "\n",
        "lm_model = RNN(config)\n",
        "criterion = nn.NLLLoss(ignore_index=config['pad_idx'])\n",
        "optimizer = torch.optim.Adam(lm_model.parameters(), lr=1e-3)\n",
        "\n",
        "trainer = Trainer(lm_model, criterion, optimizer)\n",
        "trainer.fit(train_loader, n_epochs=150)\n",
        "trainer.plot_loss_curve()"
      ],
      "execution_count": 64,
      "outputs": [
        {
          "output_type": "display_data",
          "data": {
            "application/vnd.jupyter.widget-view+json": {
              "model_id": "e0011a8d6c1b4beab0caaeadc519f0f3",
              "version_minor": 0,
              "version_major": 2
            },
            "text/plain": [
              "HBox(children=(FloatProgress(value=0.0, max=150.0), HTML(value='')))"
            ]
          },
          "metadata": {
            "tags": []
          }
        },
        {
          "output_type": "stream",
          "text": [
            "\n"
          ],
          "name": "stdout"
        },
        {
          "output_type": "display_data",
          "data": {
            "image/png": "[encoded data removed]",
            "text/plain": [
              "<Figure size 432x288 with 1 Axes>"
            ]
          },
          "metadata": {
            "tags": [],
            "needs_background": "light"
          }
        }
      ]
    },
    {
      "cell_type": "code",
      "metadata": {
        "id": "TNfDYk-lOTZ_"
      },
      "source": [
        "# from tqdm.notebook import tqdm\n",
        "\n",
        "\n",
        "# for epoch in range(51):\n",
        "#   lm_model.train()\n",
        "#   total_loss = 0\n",
        "#   for batch in train_loader:\n",
        "#     input = batch['input']\n",
        "#     output = batch['output']\n",
        "#     lenght = batch['length']\n",
        "#     lenght = lenght.squeeze()\n",
        "\n",
        "#     output = output.view(-1, 1)\n",
        "#     output = output.squeeze()\n",
        "\n",
        "#     optimizer.zero_grad()\n",
        "\n",
        "#     hidden, cell = lm_model.init_hidden()\n",
        "#     predictions, (hidden, cell) = lm_model(input, lenght, (hidden, cell))\n",
        "\n",
        "#     loss = criterion(predictions, output)\n",
        "#     loss.backward()\n",
        "\n",
        "#     optimizer.step()\n",
        "#     total_loss += loss.item()\n",
        "\n",
        "#   if epoch % 10 == 0:\n",
        "#     print(epoch, total_loss)"
      ],
      "execution_count": 1,
      "outputs": []
    },
    {
      "cell_type": "code",
      "metadata": {
        "colab": {
          "base_uri": "https://localhost:8080/"
        },
        "id": "SLG2cjNWO6ps",
        "outputId": "40659b3b-f002-410b-a0c4-83dbc5d4e564"
      },
      "source": [
        "np.sum([param.numel() for name, param in lm_model.named_parameters()])"
      ],
      "execution_count": 520,
      "outputs": [
        {
          "output_type": "execute_result",
          "data": {
            "text/plain": [
              "7661869"
            ]
          },
          "metadata": {
            "tags": []
          },
          "execution_count": 520
        }
      ]
    },
    {
      "cell_type": "code",
      "metadata": {
        "id": "GqCE2SZ_LgO8"
      },
      "source": [
        "def choose_from_top(probs, values):\n",
        "  probs = np.abs(probs)\n",
        "  probs = np.exp(probs) / np.sum(np.exp(probs))\n",
        "  value = np.random.choice(values, p=probs)\n",
        "  return value"
      ],
      "execution_count": 67,
      "outputs": []
    },
    {
      "cell_type": "code",
      "metadata": {
        "colab": {
          "base_uri": "https://localhost:8080/"
        },
        "id": "TdbkkKd7tJ1q",
        "outputId": "e84468b4-36b1-4e4e-cda5-d95edb48457c"
      },
      "source": [
        "input_str = 'три'\n",
        "new_word = None\n",
        "count = 0\n",
        "\n",
        "with torch.no_grad():\n",
        "  lm_model.eval()\n",
        "  hidden = lm_model.init_hidden()\n",
        "  hidden, cell = (torch.zeros((config['n_layers'], 1, config['hid_size'])), \\\n",
        "                  torch.zeros((config['n_layers'], 1, config['hid_size'])))\n",
        "\n",
        "  while new_word != '<EOS>' and count < 10:\n",
        "    input_tensor = torch.LongTensor([dataset.text_to_ids(input_str.split())])\n",
        "    lenght_tensor = torch.LongTensor([len(input_str.split())])\n",
        "    predictions, (hidden, cell) = lm_model(input_tensor, lenght_tensor, (hidden, cell))\n",
        "    top_values, top_indexes = torch.topk(predictions, k=1, dim=1)\n",
        "    top_values = top_values.numpy()[0]\n",
        "    top_indexes = top_indexes.numpy()[0]\n",
        "    top_index = choose_from_top(top_values, top_indexes)\n",
        "\n",
        "    # top_index = torch.argmax(predictions, dim=1).numpy()[0]\n",
        "    new_word = dataset.id2word[top_index]\n",
        "    input_str = input_str + ' ' + new_word\n",
        "    count += 1\n",
        "  print(' '.join([word for word, _ in groupby(input_str.split())]))"
      ],
      "execution_count": 79,
      "outputs": [
        {
          "output_type": "stream",
          "text": [
            "три девицы под пряли окном девицы вечерком\n"
          ],
          "name": "stdout"
        }
      ]
    },
    {
      "cell_type": "code",
      "metadata": {
        "id": "bNqIcXjNy9G-"
      },
      "source": [
        ""
      ],
      "execution_count": 503,
      "outputs": []
    }
  ]
}